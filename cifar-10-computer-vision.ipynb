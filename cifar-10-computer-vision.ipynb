{
 "cells": [
  {
   "cell_type": "code",
   "execution_count": 1,
   "metadata": {},
   "outputs": [],
   "source": [
    "import tensorflow as tf\n",
    "from tensorflow.keras.optimizers import RMSprop\n",
    "import numpy as np\n",
    "import random\n",
    "import os"
   ]
  },
  {
   "cell_type": "code",
   "execution_count": 2,
   "metadata": {},
   "outputs": [],
   "source": [
    "# After downloading cifar-10-python.tar.gz from Kaggle:\n",
    "\n",
    "import tarfile\n",
    "my_tar = tarfile.open('cifar-10-python.tar.gz')\n",
    "my_tar.extractall('./cifar-10') # specify which folder to extract to\n",
    "my_tar.close()"
   ]
  },
  {
   "cell_type": "code",
   "execution_count": 3,
   "metadata": {},
   "outputs": [],
   "source": [
    "def unpickle(file):\n",
    "    import pickle\n",
    "    with open(file, 'rb') as fo:\n",
    "        dict = pickle.load(fo, encoding='bytes')\n",
    "    return dict"
   ]
  },
  {
   "cell_type": "code",
   "execution_count": 4,
   "metadata": {},
   "outputs": [
    {
     "name": "stdout",
     "output_type": "stream",
     "text": [
      "50000\n",
      "50000\n",
      "10000\n",
      "10000\n"
     ]
    }
   ],
   "source": [
    "path = \"./cifar-10/cifar-10-batches-py\"\n",
    "\n",
    "training_data = []\n",
    "training_labels = []\n",
    "\n",
    "validation_data = []\n",
    "validation_labels = []\n",
    "\n",
    "training_fnames = [fname for fname in os.listdir(path) if \"data_batch_\" in fname]\n",
    "validation_fname = 'test_batch'\n",
    "\n",
    "for fname in training_fnames:\n",
    "    f = unpickle(os.path.join(path, fname))\n",
    "    training_data.extend(f[b'data'])\n",
    "    training_labels.extend(f[b'labels'])\n",
    "\n",
    "f = unpickle(os.path.join(path, validation_fname))\n",
    "validation_data.extend(f[b'data'])\n",
    "validation_labels.extend(f[b'labels'])\n",
    "\n",
    "training_data = np.array(training_data)\n",
    "training_labels = np.array(training_labels)\n",
    "\n",
    "training_data = training_data.reshape(50000, 3, 32,32)\n",
    "training_data = np.swapaxes(training_data, 1, 3)\n",
    "training_data = np.swapaxes(training_data, 1, 2)\n",
    "\n",
    "validation_data = np.array(validation_data)\n",
    "validation_labels = np.array(validation_labels)\n",
    "\n",
    "validation_data = validation_data.reshape(10000, 3, 32,32)\n",
    "validation_data = np.swapaxes(validation_data, 1, 3)\n",
    "validation_data = np.swapaxes(validation_data, 1, 2)\n",
    "\n",
    "# Sanity check for directory sizes:\n",
    "\n",
    "print(len(training_data))\n",
    "print(len(training_labels))\n",
    "print(len(validation_data))\n",
    "print(len(validation_labels))"
   ]
  },
  {
   "cell_type": "code",
   "execution_count": 74,
   "metadata": {},
   "outputs": [
    {
     "name": "stdout",
     "output_type": "stream",
     "text": [
      "(50000, 32, 32, 3)\n",
      "(10000, 32, 32, 3)\n"
     ]
    }
   ],
   "source": [
    "from tensorflow.keras.preprocessing.image import ImageDataGenerator\n",
    "\n",
    "train_datagen = ImageDataGenerator(rescale=1./255,\n",
    "                                  rotation_range=20,\n",
    "                                  width_shift_range=0.2,\n",
    "                                  height_shift_range=0.2,\n",
    "                                  shear_range=0.2,\n",
    "                                  zoom_range=0.2,\n",
    "                                  horizontal_flip=True)\n",
    "\n",
    "validation_datagen = ImageDataGenerator(rescale=1./255)\n",
    "\n",
    "train_generator = train_datagen.flow(training_data,\n",
    "                                     training_labels,\n",
    "                                     batch_size=50)\n",
    "validation_generator = validation_datagen.flow(validation_data,\n",
    "                                               validation_labels,\n",
    "                                               batch_size=50)\n",
    "\n",
    "# Check array shapes:\n",
    "\n",
    "print(training_data.shape)\n",
    "print(validation_data.shape)"
   ]
  },
  {
   "cell_type": "code",
   "execution_count": 47,
   "metadata": {},
   "outputs": [
    {
     "data": {
      "image/png": "[encoded data removed]",
      "text/plain": [
       "<Figure size 432x288 with 1 Axes>"
      ]
     },
     "metadata": {
      "needs_background": "light"
     },
     "output_type": "display_data"
    }
   ],
   "source": [
    "# Look at a random image to make sure everything looks OK:\n",
    "\n",
    "import matplotlib.pyplot as plt\n",
    "import matplotlib.image as mping\n",
    "\n",
    "imgplot = plt.imshow(random.choice(validation_data))"
   ]
  },
  {
   "cell_type": "code",
   "execution_count": 73,
   "metadata": {},
   "outputs": [],
   "source": [
    "model = tf.keras.models.Sequential([\n",
    "    tf.keras.layers.Conv2D(64, (3,3), activation='relu', input_shape=(32, 32, 3)),\n",
    "    tf.keras.layers.MaxPooling2D(2, 2),\n",
    "    tf.keras.layers.Dropout(0.1),\n",
    "    tf.keras.layers.Conv2D(64, (3,3), activation='relu'),\n",
    "    tf.keras.layers.MaxPooling2D(2,2),\n",
    "    tf.keras.layers.Dropout(0.1),\n",
    "    \n",
    "    tf.keras.layers.Flatten(),\n",
    "    tf.keras.layers.Dense(512, activation='relu'),\n",
    "    tf.keras.layers.Dense(10, activation='softmax')\n",
    "])\n",
    "\n",
    "model.compile(optimizer=RMSprop(learning_rate=0.0005),\n",
    "              loss='sparse_categorical_crossentropy',\n",
    "              metrics=['accuracy'])"
   ]
  },
  {
   "cell_type": "code",
   "execution_count": 75,
   "metadata": {},
   "outputs": [
    {
     "name": "stdout",
     "output_type": "stream",
     "text": [
      "Epoch 1/50\n",
      "1000/1000 [==============================] - 214s 214ms/step - loss: 1.7600 - accuracy: 0.3579 - val_loss: 1.3538 - val_accuracy: 0.5240\n",
      "Epoch 2/50\n",
      "1000/1000 [==============================] - 217s 217ms/step - loss: 1.5101 - accuracy: 0.4595 - val_loss: 1.3191 - val_accuracy: 0.5220\n",
      "Epoch 3/50\n",
      "1000/1000 [==============================] - 222s 222ms/step - loss: 1.3969 - accuracy: 0.5001 - val_loss: 1.1372 - val_accuracy: 0.5860\n",
      "Epoch 4/50\n",
      "1000/1000 [==============================] - 225s 225ms/step - loss: 1.3218 - accuracy: 0.5315 - val_loss: 0.9844 - val_accuracy: 0.6476\n",
      "Epoch 5/50\n",
      "1000/1000 [==============================] - 220s 220ms/step - loss: 1.2790 - accuracy: 0.5475 - val_loss: 0.9844 - val_accuracy: 0.6548\n",
      "Epoch 6/50\n",
      "1000/1000 [==============================] - 221s 221ms/step - loss: 1.2255 - accuracy: 0.5640 - val_loss: 1.0557 - val_accuracy: 0.6288\n",
      "Epoch 7/50\n",
      "1000/1000 [==============================] - 224s 224ms/step - loss: 1.1906 - accuracy: 0.5817 - val_loss: 0.9761 - val_accuracy: 0.6636\n",
      "Epoch 8/50\n",
      "1000/1000 [==============================] - 243s 243ms/step - loss: 1.1649 - accuracy: 0.5873 - val_loss: 0.9092 - val_accuracy: 0.6880\n",
      "Epoch 9/50\n",
      "1000/1000 [==============================] - 225s 225ms/step - loss: 1.1329 - accuracy: 0.6030 - val_loss: 0.9240 - val_accuracy: 0.6780\n",
      "Epoch 10/50\n",
      "1000/1000 [==============================] - 230s 230ms/step - loss: 1.1194 - accuracy: 0.6061 - val_loss: 0.9151 - val_accuracy: 0.6796\n",
      "Epoch 11/50\n",
      "1000/1000 [==============================] - 218s 218ms/step - loss: 1.0953 - accuracy: 0.6162 - val_loss: 0.9581 - val_accuracy: 0.6772\n",
      "Epoch 12/50\n",
      "1000/1000 [==============================] - 214s 214ms/step - loss: 1.0811 - accuracy: 0.6194 - val_loss: 0.8718 - val_accuracy: 0.7088\n",
      "Epoch 13/50\n",
      "1000/1000 [==============================] - 217s 217ms/step - loss: 1.0711 - accuracy: 0.6258 - val_loss: 0.9269 - val_accuracy: 0.6888\n",
      "Epoch 14/50\n",
      "1000/1000 [==============================] - 217s 217ms/step - loss: 1.0632 - accuracy: 0.6302 - val_loss: 0.8404 - val_accuracy: 0.7060\n",
      "Epoch 15/50\n",
      "1000/1000 [==============================] - 226s 226ms/step - loss: 1.0467 - accuracy: 0.6361 - val_loss: 0.9509 - val_accuracy: 0.6888\n",
      "Epoch 16/50\n",
      "1000/1000 [==============================] - 215s 215ms/step - loss: 1.0488 - accuracy: 0.6350 - val_loss: 0.9322 - val_accuracy: 0.6780\n",
      "Epoch 17/50\n",
      "1000/1000 [==============================] - 210s 210ms/step - loss: 1.0307 - accuracy: 0.6408 - val_loss: 0.8969 - val_accuracy: 0.6976\n",
      "Epoch 18/50\n",
      "1000/1000 [==============================] - 222s 222ms/step - loss: 1.0217 - accuracy: 0.6469 - val_loss: 0.7804 - val_accuracy: 0.7360\n",
      "Epoch 19/50\n",
      "1000/1000 [==============================] - 222s 222ms/step - loss: 1.0195 - accuracy: 0.6486 - val_loss: 0.7562 - val_accuracy: 0.7460\n",
      "Epoch 20/50\n",
      "1000/1000 [==============================] - 223s 223ms/step - loss: 1.0118 - accuracy: 0.6508 - val_loss: 0.7883 - val_accuracy: 0.7340\n",
      "Epoch 21/50\n",
      "1000/1000 [==============================] - 224s 224ms/step - loss: 1.0113 - accuracy: 0.6513 - val_loss: 0.7859 - val_accuracy: 0.7400\n",
      "Epoch 22/50\n",
      "1000/1000 [==============================] - 223s 223ms/step - loss: 1.0019 - accuracy: 0.6534 - val_loss: 0.8319 - val_accuracy: 0.7260\n",
      "Epoch 23/50\n",
      "1000/1000 [==============================] - 216s 216ms/step - loss: 0.9912 - accuracy: 0.6567 - val_loss: 0.7750 - val_accuracy: 0.7404\n",
      "Epoch 24/50\n",
      "1000/1000 [==============================] - 221s 221ms/step - loss: 0.9947 - accuracy: 0.6563 - val_loss: 0.9116 - val_accuracy: 0.6976\n",
      "Epoch 25/50\n",
      "1000/1000 [==============================] - 220s 220ms/step - loss: 0.9892 - accuracy: 0.6583 - val_loss: 0.7742 - val_accuracy: 0.7376\n",
      "Epoch 26/50\n",
      "1000/1000 [==============================] - 217s 217ms/step - loss: 0.9899 - accuracy: 0.6601 - val_loss: 0.8814 - val_accuracy: 0.6972\n",
      "Epoch 27/50\n",
      "1000/1000 [==============================] - 220s 220ms/step - loss: 0.9783 - accuracy: 0.6628 - val_loss: 0.8512 - val_accuracy: 0.7096\n",
      "Epoch 28/50\n",
      "1000/1000 [==============================] - 225s 225ms/step - loss: 0.9841 - accuracy: 0.6616 - val_loss: 0.7543 - val_accuracy: 0.7472\n",
      "Epoch 29/50\n",
      "1000/1000 [==============================] - 219s 219ms/step - loss: 0.9830 - accuracy: 0.6616 - val_loss: 0.8081 - val_accuracy: 0.7280\n",
      "Epoch 30/50\n",
      "1000/1000 [==============================] - 217s 217ms/step - loss: 0.9807 - accuracy: 0.6617 - val_loss: 0.8053 - val_accuracy: 0.7300\n",
      "Epoch 31/50\n",
      "1000/1000 [==============================] - 215s 215ms/step - loss: 0.9752 - accuracy: 0.6660 - val_loss: 0.7350 - val_accuracy: 0.7520\n",
      "Epoch 32/50\n",
      "1000/1000 [==============================] - 221s 221ms/step - loss: 0.9723 - accuracy: 0.6674 - val_loss: 0.7280 - val_accuracy: 0.7608\n",
      "Epoch 33/50\n",
      "1000/1000 [==============================] - 217s 217ms/step - loss: 0.9730 - accuracy: 0.6667 - val_loss: 0.7691 - val_accuracy: 0.7344\n",
      "Epoch 34/50\n",
      "1000/1000 [==============================] - 221s 221ms/step - loss: 0.9750 - accuracy: 0.6677 - val_loss: 0.9125 - val_accuracy: 0.6956\n",
      "Epoch 35/50\n",
      "1000/1000 [==============================] - 222s 222ms/step - loss: 0.9732 - accuracy: 0.6657 - val_loss: 0.8126 - val_accuracy: 0.7372\n",
      "Epoch 36/50\n",
      "1000/1000 [==============================] - 223s 223ms/step - loss: 0.9743 - accuracy: 0.6660 - val_loss: 0.7656 - val_accuracy: 0.7412\n",
      "Epoch 37/50\n",
      "1000/1000 [==============================] - 215s 215ms/step - loss: 0.9691 - accuracy: 0.6690 - val_loss: 0.8184 - val_accuracy: 0.7228\n",
      "Epoch 38/50\n",
      "1000/1000 [==============================] - 220s 220ms/step - loss: 0.9732 - accuracy: 0.6648 - val_loss: 0.7296 - val_accuracy: 0.7580\n",
      "Epoch 39/50\n",
      "1000/1000 [==============================] - 220s 220ms/step - loss: 0.9661 - accuracy: 0.6682 - val_loss: 0.8426 - val_accuracy: 0.7152\n",
      "Epoch 40/50\n",
      "1000/1000 [==============================] - 220s 220ms/step - loss: 0.9693 - accuracy: 0.6686 - val_loss: 0.7626 - val_accuracy: 0.7500\n",
      "Epoch 41/50\n",
      "1000/1000 [==============================] - 215s 215ms/step - loss: 0.9734 - accuracy: 0.6687 - val_loss: 0.8564 - val_accuracy: 0.7148\n",
      "Epoch 42/50\n",
      "1000/1000 [==============================] - 220s 220ms/step - loss: 0.9701 - accuracy: 0.6676 - val_loss: 0.8586 - val_accuracy: 0.7204\n",
      "Epoch 43/50\n",
      "1000/1000 [==============================] - 215s 215ms/step - loss: 0.9718 - accuracy: 0.6684 - val_loss: 0.7909 - val_accuracy: 0.7408\n",
      "Epoch 44/50\n",
      "1000/1000 [==============================] - 199s 199ms/step - loss: 0.9639 - accuracy: 0.6693 - val_loss: 0.8546 - val_accuracy: 0.7076\n",
      "Epoch 45/50\n",
      "1000/1000 [==============================] - 128s 128ms/step - loss: 0.9769 - accuracy: 0.6683 - val_loss: 0.8579 - val_accuracy: 0.7068\n",
      "Epoch 46/50\n",
      "1000/1000 [==============================] - 126s 126ms/step - loss: 0.9667 - accuracy: 0.6668 - val_loss: 0.8621 - val_accuracy: 0.7156\n",
      "Epoch 47/50\n",
      "1000/1000 [==============================] - 126s 126ms/step - loss: 0.9694 - accuracy: 0.6675 - val_loss: 0.7917 - val_accuracy: 0.7352\n",
      "Epoch 48/50\n",
      "1000/1000 [==============================] - 128s 128ms/step - loss: 0.9728 - accuracy: 0.6683 - val_loss: 0.7691 - val_accuracy: 0.7520\n",
      "Epoch 49/50\n",
      "1000/1000 [==============================] - 174s 174ms/step - loss: 0.9699 - accuracy: 0.6688 - val_loss: 0.9600 - val_accuracy: 0.6796\n",
      "Epoch 50/50\n",
      "1000/1000 [==============================] - 176s 176ms/step - loss: 0.9663 - accuracy: 0.6692 - val_loss: 0.8009 - val_accuracy: 0.7344\n"
     ]
    }
   ],
   "source": [
    "history = model.fit_generator(\n",
    "    train_generator,\n",
    "    validation_data = validation_generator,\n",
    "    epochs=50,\n",
    "    verbose=1,\n",
    "    validation_steps = 50)"
   ]
  },
  {
   "cell_type": "code",
   "execution_count": 76,
   "metadata": {},
   "outputs": [
    {
     "data": {
      "image/png": "[encoded data removed]",
      "text/plain": [
       "<Figure size 432x288 with 1 Axes>"
      ]
     },
     "metadata": {
      "needs_background": "light"
     },
     "output_type": "display_data"
    },
    {
     "data": {
      "text/plain": [
       "<Figure size 432x288 with 0 Axes>"
      ]
     },
     "metadata": {},
     "output_type": "display_data"
    }
   ],
   "source": [
    "import matplotlib.pyplot as plt\n",
    "acc = history.history['accuracy']\n",
    "val_acc = history.history['val_accuracy']\n",
    "loss = history.history['loss']\n",
    "val_loss = history.history['val_loss']\n",
    "\n",
    "epochs = range(len(acc))\n",
    "\n",
    "plt.plot(epochs, acc, 'r', label='Training accuracy')\n",
    "plt.plot(epochs, val_acc, 'b', label='Validation accuracy')\n",
    "plt.title('Training and validation accuracy')\n",
    "plt.legend(loc=0)\n",
    "plt.figure()\n",
    "\n",
    "\n",
    "plt.show()"
   ]
  }
 ],
 "metadata": {
  "kernelspec": {
   "display_name": "Python 3",
   "language": "python",
   "name": "python3"
  },
  "language_info": {
   "codemirror_mode": {
    "name": "ipython",
    "version": 3
   },
   "file_extension": ".py",
   "mimetype": "text/x-python",
   "name": "python",
   "nbconvert_exporter": "python",
   "pygments_lexer": "ipython3",
   "version": "3.7.4"
  }
 },
 "nbformat": 4,
 "nbformat_minor": 2
}
